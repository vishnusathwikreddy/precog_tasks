{
  "nbformat": 4,
  "nbformat_minor": 0,
  "metadata": {
    "colab": {
      "provenance": []
    },
    "kernelspec": {
      "name": "python3",
      "display_name": "Python 3"
    },
    "language_info": {
      "name": "python"
    }
  },
  "cells": [
    {
      "cell_type": "code",
      "source": [
        "!pip3 install fasttext -q"
      ],
      "metadata": {
        "colab": {
          "base_uri": "https://localhost:8080/"
        },
        "id": "-x14usGUWv9T",
        "outputId": "7b4f2465-4c30-48c7-992d-9a0045890441"
      },
      "execution_count": 1,
      "outputs": [
        {
          "output_type": "stream",
          "name": "stdout",
          "text": [
            "\u001b[?25l     \u001b[90m━━━━━━━━━━━━━━━━━━━━━━━━━━━━━━━━━━━━━━━━\u001b[0m \u001b[32m0.0/73.4 kB\u001b[0m \u001b[31m?\u001b[0m eta \u001b[36m-:--:--\u001b[0m\r\u001b[2K     \u001b[90m━━━━━━━━━━━━━━━━━━━━━━━━━━━━━━━━━━━━━━━━\u001b[0m \u001b[32m73.4/73.4 kB\u001b[0m \u001b[31m2.1 MB/s\u001b[0m eta \u001b[36m0:00:00\u001b[0m\n",
            "\u001b[?25h  Installing build dependencies ... \u001b[?25l\u001b[?25hdone\n",
            "  Getting requirements to build wheel ... \u001b[?25l\u001b[?25hdone\n",
            "  Preparing metadata (pyproject.toml) ... \u001b[?25l\u001b[?25hdone\n",
            "  Building wheel for fasttext (pyproject.toml) ... \u001b[?25l\u001b[?25hdone\n"
          ]
        }
      ]
    },
    {
      "cell_type": "code",
      "source": [
        "import fasttext"
      ],
      "metadata": {
        "id": "-Drw3GJjXt3C"
      },
      "execution_count": 2,
      "outputs": []
    },
    {
      "cell_type": "code",
      "source": [
        "fasttext_cbow_model=fasttext.train_unsupervised('cleaned_data.txt',model='cbow', minn=2, maxn=6, dim=100, epoch=50, lr=0.05)"
      ],
      "metadata": {
        "id": "fM6oXURjW-aa"
      },
      "execution_count": 3,
      "outputs": []
    },
    {
      "cell_type": "code",
      "source": [
        "fasttext_cbow_model.save_model('fasttext_cbow_model.bin')"
      ],
      "metadata": {
        "id": "VbYsxBwJXwEW"
      },
      "execution_count": 4,
      "outputs": []
    },
    {
      "cell_type": "code",
      "source": [
        "fasttext_cbow_model.get_word_vector(\"the\")"
      ],
      "metadata": {
        "colab": {
          "base_uri": "https://localhost:8080/"
        },
        "id": "UNpmP6r8X5MN",
        "outputId": "b8bcca77-2e1b-4a0f-dcda-1ef6878baccb"
      },
      "execution_count": 5,
      "outputs": [
        {
          "output_type": "execute_result",
          "data": {
            "text/plain": [
              "array([ 0.3245755 ,  0.26190615, -0.8176589 , -1.0237755 , -0.4259811 ,\n",
              "       -0.74591225, -0.35696116, -0.77025086,  0.72858727,  0.47259146,\n",
              "        0.33355385,  0.4509929 , -0.25568774,  0.3511013 ,  0.9231044 ,\n",
              "        0.62253904, -0.00646947,  1.0192711 , -0.04748076,  0.41803262,\n",
              "       -0.6873196 , -1.3742403 ,  0.4122771 ,  0.05102266, -0.17187804,\n",
              "        0.9440332 ,  0.01993557, -0.11376611,  0.24527343, -0.1312886 ,\n",
              "       -0.7084872 , -0.2599055 ,  0.8465316 , -0.5608605 ,  0.28672323,\n",
              "        0.3841571 ,  0.05917701, -0.13843068, -0.7426721 ,  0.24340323,\n",
              "       -1.3457378 ,  0.5415042 ,  0.7215986 , -1.1064435 , -0.11902402,\n",
              "       -0.31446588,  0.21875408, -0.895774  , -0.13327894, -0.1731319 ,\n",
              "        0.05041981, -0.75547516,  1.0811381 , -0.26351905,  0.19798163,\n",
              "        0.53440076, -0.9596649 , -0.7647306 ,  0.1857099 ,  0.65558237,\n",
              "        0.27341428,  0.07472203,  0.7757852 ,  0.06580371, -0.30584317,\n",
              "       -0.46255738, -1.3822157 ,  0.17584832,  0.51291215, -0.4263276 ,\n",
              "        0.9216113 ,  0.5423439 , -0.3666819 , -0.02520074, -0.96665704,\n",
              "       -0.09018296,  0.30584913, -1.904399  , -0.04364461, -0.922705  ,\n",
              "        0.59668183, -0.04936248,  0.02580943, -0.2771069 ,  0.35155436,\n",
              "       -0.15321767, -0.15941529, -0.3858674 ,  0.16544668, -0.49097595,\n",
              "        0.15693934,  0.5360584 ,  0.5740898 , -0.0564551 , -0.56636155,\n",
              "       -1.4288621 , -0.31863192, -0.68532974,  0.6556425 ,  0.8243896 ],\n",
              "      dtype=float32)"
            ]
          },
          "metadata": {},
          "execution_count": 5
        }
      ]
    },
    {
      "cell_type": "code",
      "source": [
        "fasttext_cbow_model.get_nearest_neighbors('instrument')"
      ],
      "metadata": {
        "colab": {
          "base_uri": "https://localhost:8080/"
        },
        "id": "KeKwlUd3YLiu",
        "outputId": "08d961b6-7b25-48a5-d303-3d5d11e81005"
      },
      "execution_count": 6,
      "outputs": [
        {
          "output_type": "execute_result",
          "data": {
            "text/plain": [
              "[(0.87040114402771, 'instruments'),\n",
              " (0.6008434295654297, 'argument'),\n",
              " (0.5937637090682983, 'torment'),\n",
              " (0.5754626989364624, 'pavement'),\n",
              " (0.5672910809516907, 'refinement'),\n",
              " (0.5524646639823914, 'invent'),\n",
              " (0.5483584403991699, 'instant'),\n",
              " (0.535615861415863, 'instruction'),\n",
              " (0.5308225750923157, 'attachment'),\n",
              " (0.5238146781921387, 'instructions')]"
            ]
          },
          "metadata": {},
          "execution_count": 6
        }
      ]
    },
    {
      "cell_type": "code",
      "source": [
        "fasttext_cbow_model.get_nearest_neighbors('cat')"
      ],
      "metadata": {
        "colab": {
          "base_uri": "https://localhost:8080/"
        },
        "id": "4s_smQ1nYW9_",
        "outputId": "e8bf30b7-d330-4ad8-b3f5-0ea7e730e437"
      },
      "execution_count": 7,
      "outputs": [
        {
          "output_type": "execute_result",
          "data": {
            "text/plain": [
              "[(0.7295079231262207, 'cats'),\n",
              " (0.7141279578208923, 'cats-skin'),\n",
              " (0.6568316221237183, 'cattle'),\n",
              " (0.6316695809364319, 'catch'),\n",
              " (0.5998004078865051, 'cap'),\n",
              " (0.5772387981414795, 'cab'),\n",
              " (0.5623962879180908, 'car'),\n",
              " (0.5457704067230225, 'carved'),\n",
              " (0.5392493605613708, 'cake'),\n",
              " (0.5360808968544006, 'cast')]"
            ]
          },
          "metadata": {},
          "execution_count": 7
        }
      ]
    },
    {
      "cell_type": "code",
      "source": [
        "fasttext_cbow_model.get_nearest_neighbors('little')"
      ],
      "metadata": {
        "colab": {
          "base_uri": "https://localhost:8080/"
        },
        "id": "Dt0ECEO0Z45b",
        "outputId": "5cb054b0-37a6-41fc-a518-5d30e8cd43dd"
      },
      "execution_count": 8,
      "outputs": [
        {
          "output_type": "execute_result",
          "data": {
            "text/plain": [
              "[(0.5312361121177673, 'bottle'),\n",
              " (0.5072041153907776, 'battle'),\n",
              " (0.48169106245040894, 'bicycle'),\n",
              " (0.45076996088027954, 'cattle'),\n",
              " (0.4414064884185791, 'rattle'),\n",
              " (0.4086807668209076, 'settle'),\n",
              " (0.4046286940574646, 'gentle'),\n",
              " (0.39750605821609497, 'like'),\n",
              " (0.39175793528556824, 'idle'),\n",
              " (0.3854634165763855, 'saddle')]"
            ]
          },
          "metadata": {},
          "execution_count": 8
        }
      ]
    },
    {
      "cell_type": "code",
      "source": [
        "fasttext_cbow_model.get_nearest_neighbors('good')"
      ],
      "metadata": {
        "colab": {
          "base_uri": "https://localhost:8080/"
        },
        "id": "pGsx85zWaDPC",
        "outputId": "84849325-2067-49ef-bdbf-0a27019d6d01"
      },
      "execution_count": 9,
      "outputs": [
        {
          "output_type": "execute_result",
          "data": {
            "text/plain": [
              "[(0.7417951822280884, 'god'),\n",
              " (0.7409916520118713, 'good-bye'),\n",
              " (0.7274965643882751, 'goodbye'),\n",
              " (0.5340092182159424, 'good-night'),\n",
              " (0.5225735306739807, 'food'),\n",
              " (0.5073057413101196, 'gods'),\n",
              " (0.5009645819664001, 'go?'),\n",
              " (0.4815574586391449, 'go'),\n",
              " (0.46161243319511414, 'godfrey'),\n",
              " (0.45566439628601074, 'got')]"
            ]
          },
          "metadata": {},
          "execution_count": 9
        }
      ]
    },
    {
      "cell_type": "code",
      "source": [
        "fasttext_skipgram_model=fasttext.train_unsupervised('cleaned_data.txt',model='skipgram', minn=2, maxn=6, dim=100, epoch=50, lr=0.05)"
      ],
      "metadata": {
        "id": "jfbNFh1XaG2v"
      },
      "execution_count": 10,
      "outputs": []
    },
    {
      "cell_type": "code",
      "source": [
        "fasttext_skipgram_model.get_nearest_neighbors('cat')"
      ],
      "metadata": {
        "colab": {
          "base_uri": "https://localhost:8080/"
        },
        "id": "V4kgr3wQaU1T",
        "outputId": "daac5963-affb-4912-8ed4-c5e7dbddd664"
      },
      "execution_count": 11,
      "outputs": [
        {
          "output_type": "execute_result",
          "data": {
            "text/plain": [
              "[(0.6668992638587952, 'cats'),\n",
              " (0.5428924560546875, 'crab'),\n",
              " (0.49013417959213257, 'music'),\n",
              " (0.47589394450187683, 'hasty'),\n",
              " (0.46984556317329407, 'catch'),\n",
              " (0.4651200473308563, 'hoop'),\n",
              " (0.4633082449436188, 'play'),\n",
              " (0.460873544216156, 'mommy'),\n",
              " (0.4581010043621063, 'cattle'),\n",
              " (0.45482322573661804, 'tree')]"
            ]
          },
          "metadata": {},
          "execution_count": 11
        }
      ]
    },
    {
      "cell_type": "code",
      "source": [
        "fasttext_skipgram_model.get_nearest_neighbors('little')"
      ],
      "metadata": {
        "colab": {
          "base_uri": "https://localhost:8080/"
        },
        "id": "HaBA6avTb4Vs",
        "outputId": "4f63ea5e-60cf-4155-d727-1fa62a601fc5"
      },
      "execution_count": 12,
      "outputs": [
        {
          "output_type": "execute_result",
          "data": {
            "text/plain": [
              "[(0.634640097618103, 'a'),\n",
              " (0.6072356104850769, 'the'),\n",
              " (0.5917088985443115, 'very'),\n",
              " (0.5899765491485596, 'and'),\n",
              " (0.584457278251648, 'was'),\n",
              " (0.5731322765350342, 'one'),\n",
              " (0.5714771747589111, 'there'),\n",
              " (0.5581857562065125, 'named'),\n",
              " (0.5260049104690552, 'so'),\n",
              " (0.523738443851471, 'like')]"
            ]
          },
          "metadata": {},
          "execution_count": 12
        }
      ]
    },
    {
      "cell_type": "code",
      "source": [
        "fasttext_skipgram_model.get_nearest_neighbors('good')"
      ],
      "metadata": {
        "colab": {
          "base_uri": "https://localhost:8080/"
        },
        "id": "i_7i1VHqb6_x",
        "outputId": "81f7af1b-e28a-429b-c3a2-cc90e9ce85ee"
      },
      "execution_count": 13,
      "outputs": [
        {
          "output_type": "execute_result",
          "data": {
            "text/plain": [
              "[(0.6000316739082336, 'said'),\n",
              " (0.5371134877204895, 'well'),\n",
              " (0.5262681245803833, 'ill'),\n",
              " (0.5236192345619202, 'good-bye'),\n",
              " (0.5199827551841736, 'is'),\n",
              " (0.4967438876628876, 'enough'),\n",
              " (0.484016090631485, 'good-night'),\n",
              " (0.4811473786830902, 'but'),\n",
              " (0.4748573899269104, 'goodness'),\n",
              " (0.4725084900856018, 'very')]"
            ]
          },
          "metadata": {},
          "execution_count": 13
        }
      ]
    },
    {
      "cell_type": "code",
      "source": [
        "with open('task_1_results.csv', 'r') as f:\n",
        "  for line in f:\n",
        "    words = line.split(',')\n",
        "    break\n",
        "words"
      ],
      "metadata": {
        "colab": {
          "base_uri": "https://localhost:8080/"
        },
        "id": "ZF2aHHIsgD9M",
        "outputId": "5963f83d-8598-4cdc-d854-5e6b2b84a37e"
      },
      "execution_count": 15,
      "outputs": [
        {
          "output_type": "execute_result",
          "data": {
            "text/plain": [
              "['word_1', 'word_2', 'simlex_999', 'word2vec_cbow', 'word2vec_skipgram\\n']"
            ]
          },
          "metadata": {},
          "execution_count": 15
        }
      ]
    },
    {
      "cell_type": "code",
      "source": [
        "import csv\n",
        "import numpy as np\n",
        "\n",
        "def cosine_similarity(vec1, vec2):\n",
        "  return np.dot(vec1, vec2)/(np.linalg.norm(vec1)*np.linalg.norm(vec2))\n",
        "\n",
        "results = []\n",
        "with open('task_1_results.csv', 'r') as f:\n",
        "  reader = csv.reader(f)\n",
        "  next(reader)\n",
        "  for row in reader:\n",
        "    words = [word.strip() for word in row[:2]]\n",
        "    word_1_cbow = fasttext_cbow_model.get_word_vector(words[0])\n",
        "    word_2_cbow = fasttext_cbow_model.get_word_vector(words[1])\n",
        "\n",
        "    word_1_skipgram = fasttext_skipgram_model.get_word_vector(words[0])\n",
        "    word_2_skipgram = fasttext_skipgram_model.get_word_vector(words[1])\n",
        "\n",
        "    cbow_similarity = cosine_similarity(word_1_cbow, word_2_cbow)\n",
        "    skipgram_similarity = cosine_similarity(word_1_skipgram, word_2_skipgram)\n",
        "\n",
        "    results.append(row[:5] + [cbow_similarity, skipgram_similarity])\n",
        "\n",
        "header = ['word_1', 'word_2', 'simlex_999', 'word2vec_cbow', 'word2vec_skipgram', 'fasttext_cbow', 'fasttext_skipgram']\n",
        "with open('task_1_final_results.csv', 'w', newline='') as f:\n",
        "    writer = csv.writer(f)\n",
        "    writer.writerow(header)\n",
        "    writer.writerows(results)"
      ],
      "metadata": {
        "id": "_VbRaFyefFzM"
      },
      "execution_count": 21,
      "outputs": []
    },
    {
      "cell_type": "code",
      "source": [],
      "metadata": {
        "id": "SfS-hRHSjTgv"
      },
      "execution_count": null,
      "outputs": []
    }
  ]
}
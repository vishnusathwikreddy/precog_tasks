{
  "nbformat": 4,
  "nbformat_minor": 0,
  "metadata": {
    "colab": {
      "provenance": []
    },
    "kernelspec": {
      "name": "python3",
      "display_name": "Python 3"
    },
    "language_info": {
      "name": "python"
    }
  },
  "cells": [
    {
      "cell_type": "code",
      "execution_count": 1,
      "metadata": {
        "id": "1ItPPi1hdDQO"
      },
      "outputs": [],
      "source": [
        "!pip3 install gensim -q"
      ]
    },
    {
      "cell_type": "code",
      "source": [
        "import gensim"
      ],
      "metadata": {
        "id": "gbjH8r4Dgcbp"
      },
      "execution_count": 2,
      "outputs": []
    },
    {
      "cell_type": "code",
      "source": [
        "data=[]\n",
        "with open('/content/cleaned_data.txt','r') as f:\n",
        "  for line in f:\n",
        "    data.append(gensim.utils.simple_preprocess(line))\n",
        "len(data)"
      ],
      "metadata": {
        "colab": {
          "base_uri": "https://localhost:8080/"
        },
        "id": "BKMRRWvghtc6",
        "outputId": "f26261bd-5866-4225-b942-e91252669900"
      },
      "execution_count": 3,
      "outputs": [
        {
          "output_type": "execute_result",
          "data": {
            "text/plain": [
              "6537"
            ]
          },
          "metadata": {},
          "execution_count": 3
        }
      ]
    },
    {
      "cell_type": "code",
      "source": [
        "type(data[0])"
      ],
      "metadata": {
        "colab": {
          "base_uri": "https://localhost:8080/"
        },
        "id": "c8anSqsEiITi",
        "outputId": "04ec763f-7c7a-45f4-f9bf-141559218290"
      },
      "execution_count": 4,
      "outputs": [
        {
          "output_type": "execute_result",
          "data": {
            "text/plain": [
              "list"
            ]
          },
          "metadata": {},
          "execution_count": 4
        }
      ]
    },
    {
      "cell_type": "code",
      "source": [
        "data[0]"
      ],
      "metadata": {
        "collapsed": true,
        "colab": {
          "base_uri": "https://localhost:8080/"
        },
        "id": "FAKckoGpiKtf",
        "outputId": "5ba68e30-79d9-42d8-ce1a-d6d9efbaff96"
      },
      "execution_count": 5,
      "outputs": [
        {
          "output_type": "execute_result",
          "data": {
            "text/plain": [
              "['to',\n",
              " 'sherlock',\n",
              " 'holmes',\n",
              " 'she',\n",
              " 'is',\n",
              " 'always',\n",
              " 'woman',\n",
              " 'have',\n",
              " 'seldom',\n",
              " 'heard',\n",
              " 'him',\n",
              " 'mention',\n",
              " 'her',\n",
              " 'under',\n",
              " 'any',\n",
              " 'other',\n",
              " 'name',\n",
              " 'in',\n",
              " 'his',\n",
              " 'eyes',\n",
              " 'she',\n",
              " 'eclipses',\n",
              " 'and',\n",
              " 'predominates',\n",
              " 'the',\n",
              " 'whole',\n",
              " 'of',\n",
              " 'her',\n",
              " 'sex',\n",
              " 'it',\n",
              " 'was',\n",
              " 'not',\n",
              " 'that',\n",
              " 'he',\n",
              " 'felt',\n",
              " 'any',\n",
              " 'emotion',\n",
              " 'akin',\n",
              " 'to',\n",
              " 'love',\n",
              " 'for',\n",
              " 'irene',\n",
              " 'adler',\n",
              " 'all',\n",
              " 'emotions',\n",
              " 'and',\n",
              " 'that',\n",
              " 'one',\n",
              " 'particularly',\n",
              " 'were',\n",
              " 'abhorrent',\n",
              " 'to',\n",
              " 'his',\n",
              " 'cold',\n",
              " 'precise',\n",
              " 'but',\n",
              " 'admirably',\n",
              " 'balanced',\n",
              " 'mind',\n",
              " 'he',\n",
              " 'was',\n",
              " 'take',\n",
              " 'it',\n",
              " 'the',\n",
              " 'most',\n",
              " 'perfect',\n",
              " 'reasoning',\n",
              " 'and',\n",
              " 'observing',\n",
              " 'machine',\n",
              " 'that',\n",
              " 'the',\n",
              " 'world',\n",
              " 'has',\n",
              " 'seen',\n",
              " 'but',\n",
              " 'as',\n",
              " 'lover',\n",
              " 'he',\n",
              " 'would',\n",
              " 'have',\n",
              " 'placed',\n",
              " 'himself',\n",
              " 'in',\n",
              " 'false',\n",
              " 'position',\n",
              " 'he',\n",
              " 'never',\n",
              " 'spoke',\n",
              " 'of',\n",
              " 'the',\n",
              " 'softer',\n",
              " 'passions',\n",
              " 'save',\n",
              " 'with',\n",
              " 'gibe',\n",
              " 'and',\n",
              " 'sneer',\n",
              " 'they',\n",
              " 'were',\n",
              " 'admirable',\n",
              " 'things',\n",
              " 'for',\n",
              " 'the',\n",
              " 'observer',\n",
              " 'excellent',\n",
              " 'for',\n",
              " 'drawing',\n",
              " 'the',\n",
              " 'veil',\n",
              " 'from',\n",
              " 'mens',\n",
              " 'motives',\n",
              " 'and',\n",
              " 'actions',\n",
              " 'but',\n",
              " 'for',\n",
              " 'the',\n",
              " 'trained',\n",
              " 'reasoner',\n",
              " 'to',\n",
              " 'admit',\n",
              " 'such',\n",
              " 'intrusions',\n",
              " 'into',\n",
              " 'his',\n",
              " 'own',\n",
              " 'delicate',\n",
              " 'and',\n",
              " 'finely',\n",
              " 'adjusted',\n",
              " 'temperament',\n",
              " 'was',\n",
              " 'to',\n",
              " 'introduce',\n",
              " 'distracting',\n",
              " 'factor',\n",
              " 'which',\n",
              " 'might',\n",
              " 'throw',\n",
              " 'doubt',\n",
              " 'upon',\n",
              " 'all',\n",
              " 'his',\n",
              " 'mental',\n",
              " 'results',\n",
              " 'grit',\n",
              " 'in',\n",
              " 'sensitive',\n",
              " 'instrument',\n",
              " 'or',\n",
              " 'crack',\n",
              " 'in',\n",
              " 'one',\n",
              " 'of',\n",
              " 'his',\n",
              " 'own',\n",
              " 'high',\n",
              " 'power',\n",
              " 'lenses',\n",
              " 'would',\n",
              " 'not',\n",
              " 'be',\n",
              " 'more',\n",
              " 'disturbing',\n",
              " 'than',\n",
              " 'strong',\n",
              " 'emotion',\n",
              " 'in',\n",
              " 'nature',\n",
              " 'such',\n",
              " 'as',\n",
              " 'his',\n",
              " 'and',\n",
              " 'yet',\n",
              " 'there',\n",
              " 'was',\n",
              " 'but',\n",
              " 'one',\n",
              " 'woman',\n",
              " 'to',\n",
              " 'him',\n",
              " 'and',\n",
              " 'that',\n",
              " 'woman',\n",
              " 'was',\n",
              " 'the',\n",
              " 'late',\n",
              " 'irene',\n",
              " 'adler',\n",
              " 'of',\n",
              " 'dubious',\n",
              " 'and',\n",
              " 'questionable',\n",
              " 'memory']"
            ]
          },
          "metadata": {},
          "execution_count": 5
        }
      ]
    },
    {
      "cell_type": "code",
      "source": [
        "gensim_cbow_model=gensim.models.Word2Vec(window=10,min_count=5,workers=4)"
      ],
      "metadata": {
        "id": "IGi70ACeg4XK"
      },
      "execution_count": 6,
      "outputs": []
    },
    {
      "cell_type": "code",
      "source": [
        "gensim_cbow_model.build_vocab(data)"
      ],
      "metadata": {
        "id": "kkIysL2khSGQ"
      },
      "execution_count": 7,
      "outputs": []
    },
    {
      "cell_type": "code",
      "source": [
        "gensim_cbow_model.train(data,total_examples=gensim_cbow_model.corpus_count, epochs=50)"
      ],
      "metadata": {
        "colab": {
          "base_uri": "https://localhost:8080/"
        },
        "id": "seCBRg2ghMsN",
        "outputId": "b8f6fe75-4d39-4c46-ca89-990d085be132"
      },
      "execution_count": 8,
      "outputs": [
        {
          "output_type": "execute_result",
          "data": {
            "text/plain": [
              "(13167977, 19155350)"
            ]
          },
          "metadata": {},
          "execution_count": 8
        }
      ]
    },
    {
      "cell_type": "code",
      "source": [
        "gensim_cbow_model.wv.most_similar(\"little\")"
      ],
      "metadata": {
        "colab": {
          "base_uri": "https://localhost:8080/"
        },
        "id": "dJNXZQybhmLK",
        "outputId": "81c849cc-098c-467d-c608-beda931eb238"
      },
      "execution_count": 9,
      "outputs": [
        {
          "output_type": "execute_result",
          "data": {
            "text/plain": [
              "[('big', 0.38781747221946716),\n",
              " ('dog', 0.3044397234916687),\n",
              " ('sue', 0.29563432931900024),\n",
              " ('business', 0.2931746244430542),\n",
              " ('toy', 0.28658434748649597),\n",
              " ('sphinx', 0.28645411133766174),\n",
              " ('tim', 0.28201842308044434),\n",
              " ('exploring', 0.2775978744029999),\n",
              " ('house', 0.272858202457428),\n",
              " ('bird', 0.2669444680213928)]"
            ]
          },
          "metadata": {},
          "execution_count": 9
        }
      ]
    },
    {
      "cell_type": "code",
      "source": [
        "gensim_cbow_model.wv.most_similar(\"instrument\")"
      ],
      "metadata": {
        "colab": {
          "base_uri": "https://localhost:8080/"
        },
        "id": "KWj_O1h2kUbL",
        "outputId": "2333ad1c-559a-4694-f985-502f4512918d"
      },
      "execution_count": 10,
      "outputs": [
        {
          "output_type": "execute_result",
          "data": {
            "text/plain": [
              "[('fatigued', 0.5217524766921997),\n",
              " ('spectacle', 0.5136446356773376),\n",
              " ('electronic', 0.49049416184425354),\n",
              " ('enjoyment', 0.4786655306816101),\n",
              " ('phrase', 0.4745694696903229),\n",
              " ('distribution', 0.4738799035549164),\n",
              " ('produced', 0.44898712635040283),\n",
              " ('sensitive', 0.4317660927772522),\n",
              " ('reflections', 0.43073388934135437),\n",
              " ('image', 0.4274657666683197)]"
            ]
          },
          "metadata": {},
          "execution_count": 10
        }
      ]
    },
    {
      "cell_type": "code",
      "source": [
        "gensim_cbow_model.wv.most_similar(\"cat\")"
      ],
      "metadata": {
        "colab": {
          "base_uri": "https://localhost:8080/"
        },
        "id": "w5olfHvLkiqG",
        "outputId": "bbf2bd9b-2e96-40f3-a6e0-fa8989b7aad1"
      },
      "execution_count": 11,
      "outputs": [
        {
          "output_type": "execute_result",
          "data": {
            "text/plain": [
              "[('kayak', 0.6526086330413818),\n",
              " ('lily', 0.633998453617096),\n",
              " ('fun', 0.6287849545478821),\n",
              " ('kitty', 0.6141449213027954),\n",
              " ('binky', 0.6106033325195312),\n",
              " ('tom', 0.603498637676239),\n",
              " ('fish', 0.5912657380104065),\n",
              " ('sad', 0.5896953344345093),\n",
              " ('play', 0.5895097851753235),\n",
              " ('susie', 0.5837706923484802)]"
            ]
          },
          "metadata": {},
          "execution_count": 11
        }
      ]
    },
    {
      "cell_type": "code",
      "source": [
        "gensim_cbow_model.wv.most_similar(\"good\")"
      ],
      "metadata": {
        "colab": {
          "base_uri": "https://localhost:8080/"
        },
        "id": "Y031o1Hhkk9a",
        "outputId": "0604b941-05fa-4d61-fdf1-69bac88a7b64"
      },
      "execution_count": 12,
      "outputs": [
        {
          "output_type": "execute_result",
          "data": {
            "text/plain": [
              "[('well', 0.4761020243167877),\n",
              " ('ah', 0.401197612285614),\n",
              " ('brave', 0.3980303704738617),\n",
              " ('friendly', 0.39400747418403625),\n",
              " ('nice', 0.3898533582687378),\n",
              " ('yours', 0.36280667781829834),\n",
              " ('pardon', 0.357268750667572),\n",
              " ('rule', 0.34813153743743896),\n",
              " ('bad', 0.3480081558227539),\n",
              " ('serious', 0.3462681174278259)]"
            ]
          },
          "metadata": {},
          "execution_count": 12
        }
      ]
    },
    {
      "cell_type": "code",
      "source": [
        "gensim_skipgram_model=gensim.models.Word2Vec(window=10,min_count=5,workers=4)\n",
        "gensim_skipgram_model.build_vocab(data)\n",
        "gensim_skipgram_model.train(data,total_examples=gensim_cbow_model.corpus_count, epochs=50)"
      ],
      "metadata": {
        "colab": {
          "base_uri": "https://localhost:8080/"
        },
        "id": "d0AbRRCglWOU",
        "outputId": "78db7fb2-76fd-49d3-c542-c0a68b383af7"
      },
      "execution_count": 13,
      "outputs": [
        {
          "output_type": "execute_result",
          "data": {
            "text/plain": [
              "(13164569, 19155350)"
            ]
          },
          "metadata": {},
          "execution_count": 13
        }
      ]
    },
    {
      "cell_type": "code",
      "source": [
        "gensim_skipgram_model.wv.most_similar(\"little\")"
      ],
      "metadata": {
        "colab": {
          "base_uri": "https://localhost:8080/"
        },
        "id": "ZFqt0SVnlp6V",
        "outputId": "41f9978d-91b9-4880-8034-f4fdaff0dd75"
      },
      "execution_count": 14,
      "outputs": [
        {
          "output_type": "execute_result",
          "data": {
            "text/plain": [
              "[('big', 0.36970677971839905),\n",
              " ('house', 0.308670312166214),\n",
              " ('got', 0.2979147434234619),\n",
              " ('dog', 0.2961495816707611),\n",
              " ('clumsy', 0.2882435619831085),\n",
              " ('lots', 0.2813645899295807),\n",
              " ('business', 0.28121060132980347),\n",
              " ('exploring', 0.2741580009460449),\n",
              " ('bye', 0.27060526609420776),\n",
              " ('sue', 0.26878198981285095)]"
            ]
          },
          "metadata": {},
          "execution_count": 14
        }
      ]
    },
    {
      "cell_type": "code",
      "source": [
        "gensim_skipgram_model.wv.most_similar(\"instrument\")"
      ],
      "metadata": {
        "colab": {
          "base_uri": "https://localhost:8080/"
        },
        "id": "fvxq5_MLltnn",
        "outputId": "4c959283-557c-4451-f61b-10f42da19cdb"
      },
      "execution_count": 15,
      "outputs": [
        {
          "output_type": "execute_result",
          "data": {
            "text/plain": [
              "[('enjoyment', 0.49720048904418945),\n",
              " ('image', 0.4684387445449829),\n",
              " ('sadness', 0.4583601951599121),\n",
              " ('earnestness', 0.45134788751602173),\n",
              " ('sleeves', 0.4451662003993988),\n",
              " ('suspicious', 0.44246479868888855),\n",
              " ('reflections', 0.4416184425354004),\n",
              " ('distribution', 0.4354761242866516),\n",
              " ('access', 0.43230074644088745),\n",
              " ('activity', 0.4298962652683258)]"
            ]
          },
          "metadata": {},
          "execution_count": 15
        }
      ]
    },
    {
      "cell_type": "code",
      "source": [
        "gensim_skipgram_model.wv.most_similar(\"cat\")"
      ],
      "metadata": {
        "colab": {
          "base_uri": "https://localhost:8080/"
        },
        "id": "GyrvzqwQl1ot",
        "outputId": "a2e3c4ae-198e-4d98-c51a-f61b25f74031"
      },
      "execution_count": 16,
      "outputs": [
        {
          "output_type": "execute_result",
          "data": {
            "text/plain": [
              "[('binky', 0.6682555675506592),\n",
              " ('lily', 0.658250629901886),\n",
              " ('play', 0.6461493968963623),\n",
              " ('kayak', 0.6315339803695679),\n",
              " ('fun', 0.631358802318573),\n",
              " ('sad', 0.6279902458190918),\n",
              " ('kitty', 0.6198633909225464),\n",
              " ('tom', 0.6141072511672974),\n",
              " ('susie', 0.6127685308456421),\n",
              " ('fish', 0.5896783471107483)]"
            ]
          },
          "metadata": {},
          "execution_count": 16
        }
      ]
    },
    {
      "cell_type": "code",
      "source": [
        "gensim_skipgram_model.wv.most_similar(\"good\")"
      ],
      "metadata": {
        "colab": {
          "base_uri": "https://localhost:8080/"
        },
        "id": "8FEXWp4il6Gv",
        "outputId": "b27db953-f736-4d3b-982b-5f9d481499ef"
      },
      "execution_count": 17,
      "outputs": [
        {
          "output_type": "execute_result",
          "data": {
            "text/plain": [
              "[('well', 0.42445841431617737),\n",
              " ('friendly', 0.3900867998600006),\n",
              " ('brave', 0.3865189254283905),\n",
              " ('pardon', 0.3681865334510803),\n",
              " ('advice', 0.3675327003002167),\n",
              " ('serious', 0.36145123839378357),\n",
              " ('bad', 0.36098113656044006),\n",
              " ('yours', 0.3586968183517456),\n",
              " ('ah', 0.3550035357475281),\n",
              " ('madam', 0.35156887769699097)]"
            ]
          },
          "metadata": {},
          "execution_count": 17
        }
      ]
    },
    {
      "cell_type": "code",
      "source": [
        "with open('SimLex-999.txt', 'r') as f:\n",
        "  for line in f:\n",
        "    words=line.split()\n",
        "    print(words)\n",
        "    break"
      ],
      "metadata": {
        "colab": {
          "base_uri": "https://localhost:8080/"
        },
        "id": "7VCh-COzU4f1",
        "outputId": "005a3e4a-3f48-4167-c817-f25fcdc7acb3"
      },
      "execution_count": 19,
      "outputs": [
        {
          "output_type": "stream",
          "name": "stdout",
          "text": [
            "['word1', 'word2', 'POS', 'SimLex999', 'conc(w1)', 'conc(w2)', 'concQ', 'Assoc(USF)', 'SimAssoc333', 'SD(SimLex)']\n"
          ]
        }
      ]
    },
    {
      "cell_type": "code",
      "source": [
        "import csv\n",
        "\n",
        "count = -1\n",
        "no_embeddings = []\n",
        "results = []\n",
        "\n",
        "with open('SimLex-999.txt', 'r') as f:\n",
        "  for line in f:\n",
        "      if count == -1:\n",
        "          count += 1\n",
        "          continue\n",
        "\n",
        "      words = line.split()\n",
        "\n",
        "      if words[0] in gensim_cbow_model.wv.key_to_index and words[1] in gensim_cbow_model.wv.key_to_index:\n",
        "        cbow_similarity = gensim_cbow_model.wv.similarity(words[0], words[1])\n",
        "      else:\n",
        "        cbow_similarity=0\n",
        "\n",
        "      if words[0] in gensim_skipgram_model.wv.key_to_index and words[1] in gensim_skipgram_model.wv.key_to_index:\n",
        "        skipgram_similarity = gensim_skipgram_model.wv.similarity(words[0], words[1])\n",
        "      else:\n",
        "        skipgram_similarity=0\n",
        "\n",
        "      results.append([words[0], words[1], words[3], cbow_similarity, skipgram_similarity])\n",
        "\n",
        "\n",
        "header = ['word_1', 'word_2', 'simlex_999', 'word2vec_cbow', 'word2vec_skipgram']\n",
        "with open('task_1_results.csv', 'w', newline='') as f:\n",
        "  writer = csv.writer(f)\n",
        "  writer.writerow(header)\n",
        "  writer.writerows(results)"
      ],
      "metadata": {
        "id": "tdpDhdrE3QBx"
      },
      "execution_count": 27,
      "outputs": []
    },
    {
      "cell_type": "code",
      "source": [
        "from google.colab import drive\n",
        "drive.mount('/content/drive')"
      ],
      "metadata": {
        "colab": {
          "base_uri": "https://localhost:8080/"
        },
        "id": "tcVw0aj_XTMT",
        "outputId": "211c1f6c-7904-430f-8d5a-400313c435bf"
      },
      "execution_count": 28,
      "outputs": [
        {
          "output_type": "stream",
          "name": "stdout",
          "text": [
            "Mounted at /content/drive\n"
          ]
        }
      ]
    },
    {
      "cell_type": "code",
      "source": [
        "gensim_cbow_model.save(\"word2vec_cbow_model.model\")\n",
        "gensim_skipgram_model.save(\"word2vec_skipgram_model.model\")"
      ],
      "metadata": {
        "id": "aBCjXsbgaSaK"
      },
      "execution_count": 29,
      "outputs": []
    },
    {
      "cell_type": "code",
      "source": [],
      "metadata": {
        "id": "SzmgYY3JbIhx"
      },
      "execution_count": null,
      "outputs": []
    }
  ]
}
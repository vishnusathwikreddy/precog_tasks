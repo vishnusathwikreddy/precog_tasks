{
 "cells": [
  {
   "cell_type": "code",
   "execution_count": 1,
   "id": "7cd32ac6-76c6-4f2e-a71e-c421ffae657a",
   "metadata": {},
   "outputs": [
    {
     "data": {
      "text/plain": [
       "' “Quite so,” he answered, lighting a cigarette, and throwing himself\\n down into an armchair. “You see, but you do not observe. The\\n distinction is clear. For example, you have frequently seen the steps\\n which lead up from the hall to this room.”\\n'"
      ]
     },
     "execution_count": 1,
     "metadata": {},
     "output_type": "execute_result"
    }
   ],
   "source": [
    "with open('data2.txt') as f:\n",
    "    count=0\n",
    "    data=[]\n",
    "    chunk=''\n",
    "    for line in f:\n",
    "        if len(line)==1 and len(chunk.split())>5:\n",
    "            data.append(chunk)\n",
    "            chunk=''\n",
    "        else:\n",
    "            chunk+=' '+line\n",
    "data[11]"
   ]
  },
  {
   "cell_type": "code",
   "execution_count": 2,
   "id": "8519b0b4-de07-404b-903a-ed898d89b4c1",
   "metadata": {},
   "outputs": [
    {
     "data": {
      "text/plain": [
       "6537"
      ]
     },
     "execution_count": 2,
     "metadata": {},
     "output_type": "execute_result"
    }
   ],
   "source": [
    "len(data)"
   ]
  },
  {
   "cell_type": "code",
   "execution_count": 3,
   "id": "9e5a0144-7f54-41ce-b4e7-c1b55ddbcfaf",
   "metadata": {},
   "outputs": [
    {
     "data": {
      "text/plain": [
       "' “The man who wrote it was presumably well to do,” I remarked,\\n endeavouring to imitate my companion’s processes. “Such paper could not\\n be bought under half a crown a packet. It is peculiarly strong and\\n stiff.”\\n'"
      ]
     },
     "execution_count": 3,
     "metadata": {},
     "output_type": "execute_result"
    }
   ],
   "source": [
    "data[20]"
   ]
  },
  {
   "cell_type": "code",
   "execution_count": 4,
   "id": "baa95d59-a527-476e-aca4-dd95b07c6566",
   "metadata": {},
   "outputs": [
    {
     "name": "stdout",
     "output_type": "stream",
     "text": [
      " quite so he answered lighting a cigarette and throwing himself down into an armchair you see but you do not observe the distinction is clear for example you have frequently seen the steps which lead up from the hall to this room \n"
     ]
    }
   ],
   "source": [
    "import re\n",
    "def preprocess(text):\n",
    "    text=text.lower()\n",
    "    text=re.sub(r'\\s+', ' ', text)\n",
    "    text=re.sub(r'[\"\\'“”‘’!,.]', '', text)\n",
    "    return text\n",
    "print(preprocess(data[11]))"
   ]
  },
  {
   "cell_type": "code",
   "execution_count": 5,
   "id": "67e2ef9c-9edc-4cc5-a73a-cc18c068e2a9",
   "metadata": {},
   "outputs": [
    {
     "data": {
      "text/plain": [
       "'he was in the house about half an hour and i could catch glimpses of him in the windows of the sitting-room pacing up and down talking excitedly and waving his arms of her i could see nothing presently he emerged looking even more flurried than before as he stepped up to the cab he pulled a gold watch from his pocket and looked at it earnestly drive like the devil he shouted first to gross & hankeys in regent street and then to the church of st monica in the edgeware road half a guinea if you do it in twenty minutes'"
      ]
     },
     "execution_count": 5,
     "metadata": {},
     "output_type": "execute_result"
    }
   ],
   "source": [
    "token_count=0\n",
    "for i in range(len(data)):\n",
    "    data[i]=preprocess(data[i])\n",
    "    if data[i][0]==' ':\n",
    "        data[i]=data[i][1:]\n",
    "    if data[i][-1]==' ':\n",
    "        data[i]=data[i][:len(data[i])-1]\n",
    "    token_count+=len(data[i].split())\n",
    "data[100]"
   ]
  },
  {
   "cell_type": "code",
   "execution_count": 6,
   "id": "9e1ac950-8e00-4254-bd46-f6441dce94ab",
   "metadata": {},
   "outputs": [
    {
     "data": {
      "text/plain": [
       "398580"
      ]
     },
     "execution_count": 6,
     "metadata": {},
     "output_type": "execute_result"
    }
   ],
   "source": [
    "token_count"
   ]
  },
  {
   "cell_type": "code",
   "execution_count": 7,
   "id": "15dd120d-b990-4e96-8462-42f46b496c1d",
   "metadata": {},
   "outputs": [
    {
     "data": {
      "text/plain": [
       "'the other two girls encouraged by her enthusiasm also placed themselves in the hands of the hypnotist and had plunges into the romantic past no one suggested that elizabeth should try this novel entertainment; it was at her own request at last that she was taken into that land of dreams where there is neither any freedom of choice nor will'"
      ]
     },
     "execution_count": 7,
     "metadata": {},
     "output_type": "execute_result"
    }
   ],
   "source": [
    "data[6002]"
   ]
  },
  {
   "cell_type": "code",
   "execution_count": 8,
   "id": "5fc6a875-4641-4b1b-9ff2-0c2a23ae628a",
   "metadata": {},
   "outputs": [],
   "source": [
    "with open(\"cleaned_data.txt\", \"w\") as file:\n",
    "    for line in data:\n",
    "        file.write(line + \"\\n\")"
   ]
  }
 ],
 "metadata": {
  "kernelspec": {
   "display_name": "Python 3 (ipykernel)",
   "language": "python",
   "name": "python3"
  },
  "language_info": {
   "codemirror_mode": {
    "name": "ipython",
    "version": 3
   },
   "file_extension": ".py",
   "mimetype": "text/x-python",
   "name": "python",
   "nbconvert_exporter": "python",
   "pygments_lexer": "ipython3",
   "version": "3.11.3"
  }
 },
 "nbformat": 4,
 "nbformat_minor": 5
}
